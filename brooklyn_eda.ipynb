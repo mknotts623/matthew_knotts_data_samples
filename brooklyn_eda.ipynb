{
 "cells": [
  {
   "cell_type": "code",
   "execution_count": 1,
   "metadata": {},
   "outputs": [],
   "source": [
    "import matplotlib.pyplot as plt\n",
    "import numpy as np\n",
    "import pandas as pd\n",
    "%matplotlib inline"
   ]
  },
  {
   "cell_type": "code",
   "execution_count": 2,
   "metadata": {},
   "outputs": [
    {
     "data": {
      "text/html": [
       "<div>\n",
       "<style scoped>\n",
       "    .dataframe tbody tr th:only-of-type {\n",
       "        vertical-align: middle;\n",
       "    }\n",
       "\n",
       "    .dataframe tbody tr th {\n",
       "        vertical-align: top;\n",
       "    }\n",
       "\n",
       "    .dataframe thead th {\n",
       "        text-align: right;\n",
       "    }\n",
       "</style>\n",
       "<table border=\"1\" class=\"dataframe\">\n",
       "  <thead>\n",
       "    <tr style=\"text-align: right;\">\n",
       "      <th></th>\n",
       "      <th>BOROUGH</th>\n",
       "      <th>NEIGHBORHOOD</th>\n",
       "      <th>BUILDING CLASS CATEGORY</th>\n",
       "      <th>TAX CLASS AT PRESENT</th>\n",
       "      <th>BLOCK</th>\n",
       "      <th>LOT</th>\n",
       "      <th>EASE-MENT</th>\n",
       "      <th>BUILDING CLASS AT PRESENT</th>\n",
       "      <th>ADDRESS</th>\n",
       "      <th>APART\\nMENT\\nNUMBER</th>\n",
       "      <th>...</th>\n",
       "      <th>RESIDENTIAL UNITS</th>\n",
       "      <th>COMMERCIAL UNITS</th>\n",
       "      <th>TOTAL UNITS</th>\n",
       "      <th>LAND SQUARE FEET</th>\n",
       "      <th>GROSS SQUARE FEET</th>\n",
       "      <th>YEAR BUILT</th>\n",
       "      <th>TAX CLASS AT TIME OF SALE</th>\n",
       "      <th>BUILDING CLASS AT TIME OF SALE</th>\n",
       "      <th>SALE PRICE</th>\n",
       "      <th>SALE DATE</th>\n",
       "    </tr>\n",
       "  </thead>\n",
       "  <tbody>\n",
       "    <tr>\n",
       "      <th>0</th>\n",
       "      <td>3</td>\n",
       "      <td></td>\n",
       "      <td>15  CONDOS - 2-10 UNIT RESIDENTIAL</td>\n",
       "      <td></td>\n",
       "      <td>814</td>\n",
       "      <td>1103</td>\n",
       "      <td></td>\n",
       "      <td></td>\n",
       "      <td>342 53RD    STREET</td>\n",
       "      <td></td>\n",
       "      <td>...</td>\n",
       "      <td>0</td>\n",
       "      <td>0</td>\n",
       "      <td>0</td>\n",
       "      <td>0</td>\n",
       "      <td>0</td>\n",
       "      <td>0</td>\n",
       "      <td>2</td>\n",
       "      <td>R1</td>\n",
       "      <td>$403,572</td>\n",
       "      <td>7/9/2013</td>\n",
       "    </tr>\n",
       "    <tr>\n",
       "      <th>1</th>\n",
       "      <td>3</td>\n",
       "      <td></td>\n",
       "      <td>15  CONDOS - 2-10 UNIT RESIDENTIAL</td>\n",
       "      <td></td>\n",
       "      <td>814</td>\n",
       "      <td>1105</td>\n",
       "      <td></td>\n",
       "      <td></td>\n",
       "      <td>342 53RD    STREET</td>\n",
       "      <td></td>\n",
       "      <td>...</td>\n",
       "      <td>0</td>\n",
       "      <td>0</td>\n",
       "      <td>0</td>\n",
       "      <td>0</td>\n",
       "      <td>0</td>\n",
       "      <td>0</td>\n",
       "      <td>2</td>\n",
       "      <td>R1</td>\n",
       "      <td>$218,010</td>\n",
       "      <td>7/12/2013</td>\n",
       "    </tr>\n",
       "    <tr>\n",
       "      <th>2</th>\n",
       "      <td>3</td>\n",
       "      <td></td>\n",
       "      <td>15  CONDOS - 2-10 UNIT RESIDENTIAL</td>\n",
       "      <td></td>\n",
       "      <td>1967</td>\n",
       "      <td>1401</td>\n",
       "      <td></td>\n",
       "      <td></td>\n",
       "      <td>290 GREENE AVE</td>\n",
       "      <td></td>\n",
       "      <td>...</td>\n",
       "      <td>0</td>\n",
       "      <td>0</td>\n",
       "      <td>0</td>\n",
       "      <td>0</td>\n",
       "      <td>0</td>\n",
       "      <td>0</td>\n",
       "      <td>2</td>\n",
       "      <td>R1</td>\n",
       "      <td>$952,311</td>\n",
       "      <td>4/25/2013</td>\n",
       "    </tr>\n",
       "    <tr>\n",
       "      <th>3</th>\n",
       "      <td>3</td>\n",
       "      <td></td>\n",
       "      <td>15  CONDOS - 2-10 UNIT RESIDENTIAL</td>\n",
       "      <td></td>\n",
       "      <td>1967</td>\n",
       "      <td>1402</td>\n",
       "      <td></td>\n",
       "      <td></td>\n",
       "      <td>290 GREENE AVE</td>\n",
       "      <td></td>\n",
       "      <td>...</td>\n",
       "      <td>0</td>\n",
       "      <td>0</td>\n",
       "      <td>0</td>\n",
       "      <td>0</td>\n",
       "      <td>0</td>\n",
       "      <td>0</td>\n",
       "      <td>2</td>\n",
       "      <td>R1</td>\n",
       "      <td>$842,692</td>\n",
       "      <td>4/25/2013</td>\n",
       "    </tr>\n",
       "    <tr>\n",
       "      <th>4</th>\n",
       "      <td>3</td>\n",
       "      <td></td>\n",
       "      <td>15  CONDOS - 2-10 UNIT RESIDENTIAL</td>\n",
       "      <td></td>\n",
       "      <td>1967</td>\n",
       "      <td>1403</td>\n",
       "      <td></td>\n",
       "      <td></td>\n",
       "      <td>290 GREENE AVE</td>\n",
       "      <td></td>\n",
       "      <td>...</td>\n",
       "      <td>0</td>\n",
       "      <td>0</td>\n",
       "      <td>0</td>\n",
       "      <td>0</td>\n",
       "      <td>0</td>\n",
       "      <td>0</td>\n",
       "      <td>2</td>\n",
       "      <td>R1</td>\n",
       "      <td>$815,288</td>\n",
       "      <td>4/25/2013</td>\n",
       "    </tr>\n",
       "  </tbody>\n",
       "</table>\n",
       "<p>5 rows × 21 columns</p>\n",
       "</div>"
      ],
      "text/plain": [
       "   BOROUGH               NEIGHBORHOOD  \\\n",
       "0        3                              \n",
       "1        3                              \n",
       "2        3                              \n",
       "3        3                              \n",
       "4        3                              \n",
       "\n",
       "                        BUILDING CLASS CATEGORY TAX CLASS AT PRESENT  BLOCK  \\\n",
       "0  15  CONDOS - 2-10 UNIT RESIDENTIAL                                   814   \n",
       "1  15  CONDOS - 2-10 UNIT RESIDENTIAL                                   814   \n",
       "2  15  CONDOS - 2-10 UNIT RESIDENTIAL                                  1967   \n",
       "3  15  CONDOS - 2-10 UNIT RESIDENTIAL                                  1967   \n",
       "4  15  CONDOS - 2-10 UNIT RESIDENTIAL                                  1967   \n",
       "\n",
       "    LOT EASE-MENT BUILDING CLASS AT PRESENT  \\\n",
       "0  1103                                       \n",
       "1  1105                                       \n",
       "2  1401                                       \n",
       "3  1402                                       \n",
       "4  1403                                       \n",
       "\n",
       "                                       ADDRESS APART\\nMENT\\nNUMBER  ...  \\\n",
       "0   342 53RD    STREET                                              ...   \n",
       "1   342 53RD    STREET                                              ...   \n",
       "2   290 GREENE AVE                                                  ...   \n",
       "3   290 GREENE AVE                                                  ...   \n",
       "4   290 GREENE AVE                                                  ...   \n",
       "\n",
       "   RESIDENTIAL UNITS  COMMERCIAL UNITS  TOTAL UNITS  LAND SQUARE FEET  \\\n",
       "0                  0                 0            0                 0   \n",
       "1                  0                 0            0                 0   \n",
       "2                  0                 0            0                 0   \n",
       "3                  0                 0            0                 0   \n",
       "4                  0                 0            0                 0   \n",
       "\n",
       "  GROSS SQUARE FEET YEAR BUILT  TAX CLASS AT TIME OF SALE  \\\n",
       "0                 0          0                          2   \n",
       "1                 0          0                          2   \n",
       "2                 0          0                          2   \n",
       "3                 0          0                          2   \n",
       "4                 0          0                          2   \n",
       "\n",
       "   BUILDING CLASS AT TIME OF SALE SALE PRICE  SALE DATE  \n",
       "0                             R1    $403,572   7/9/2013  \n",
       "1                             R1    $218,010  7/12/2013  \n",
       "2                             R1    $952,311  4/25/2013  \n",
       "3                             R1    $842,692  4/25/2013  \n",
       "4                             R1    $815,288  4/25/2013  \n",
       "\n",
       "[5 rows x 21 columns]"
      ]
     },
     "execution_count": 2,
     "metadata": {},
     "output_type": "execute_result"
    }
   ],
   "source": [
    "brkln_df = pd.read_csv('extra data sets/rollingsales_brooklyn.csv')\n",
    "brkln_df = brkln_df.rename(columns={\"SALE\\nPRICE\":\"SALE PRICE\"})\n",
    "\n",
    "brkln_df.head()"
   ]
  },
  {
   "cell_type": "code",
   "execution_count": 3,
   "metadata": {
    "scrolled": true
   },
   "outputs": [],
   "source": [
    "brkln_df['SALE PRICE'] = brkln_df['SALE PRICE'].str.replace('$','').str.replace(',',\"\")\n",
    "brkln_df['SALE PRICE'] = brkln_df['SALE PRICE'].astype('int64')\n",
    "brkln_df['LAND SQUARE FEET'] = brkln_df['LAND SQUARE FEET'].str.replace(',','')\n",
    "brkln_df['LAND SQUARE FEET'] = brkln_df['LAND SQUARE FEET'].astype('int64')\n",
    "brkln_df['GROSS SQUARE FEET'] = brkln_df['GROSS SQUARE FEET'].str.replace(',','')\n",
    "brkln_df['GROSS SQUARE FEET'] = brkln_df['GROSS SQUARE FEET'].astype('int64')\n"
   ]
  },
  {
   "cell_type": "code",
   "execution_count": 4,
   "metadata": {},
   "outputs": [
    {
     "data": {
      "text/plain": [
       "Text(0, 0.5, '# Properties')"
      ]
     },
     "execution_count": 4,
     "metadata": {},
     "output_type": "execute_result"
    },
    {
     "data": {
      "image/png": "[encoded data removed]",
      "text/plain": [
       "<Figure size 432x288 with 1 Axes>"
      ]
     },
     "metadata": {
      "needs_background": "light"
     },
     "output_type": "display_data"
    }
   ],
   "source": [
    "hist = plt.hist(brkln_df['SALE PRICE'])\n",
    "\n",
    "plt.title('Brooklyn Real Estate, Raw Data')\n",
    "plt.xlabel('Price ($100MM)')\n",
    "plt.ylabel('# Properties')"
   ]
  },
  {
   "cell_type": "code",
   "execution_count": 9,
   "metadata": {},
   "outputs": [
    {
     "data": {
      "text/plain": [
       "Text(0.5, 0, 'Price ($100MM)')"
      ]
     },
     "execution_count": 9,
     "metadata": {},
     "output_type": "execute_result"
    },
    {
     "data": {
      "image/png": "[encoded data removed]",
      "text/plain": [
       "<Figure size 432x288 with 1 Axes>"
      ]
     },
     "metadata": {
      "needs_background": "light"
     },
     "output_type": "display_data"
    }
   ],
   "source": [
    "brkln_df = brkln_df.loc[~(brkln_df['SALE PRICE'] == 0)]\n",
    "\n",
    "log_hist = plt.hist(brkln_df['SALE PRICE'], log = True)\n",
    "plt.title('Brooklyn Real Estate, Log Scale')\n",
    "plt.ylabel('Log (#Properties)')\n",
    "plt.xlabel('Price ($100MM)')"
   ]
  },
  {
   "cell_type": "code",
   "execution_count": 6,
   "metadata": {},
   "outputs": [
    {
     "data": {
      "text/plain": [
       "Text(0, 0.5, 'PRICE ($100MM)')"
      ]
     },
     "execution_count": 6,
     "metadata": {},
     "output_type": "execute_result"
    },
    {
     "data": {
      "image/png": "[encoded data removed]",
      "text/plain": [
       "<Figure size 432x288 with 1 Axes>"
      ]
     },
     "metadata": {
      "needs_background": "light"
     },
     "output_type": "display_data"
    }
   ],
   "source": [
    "brkln_df = brkln_df.loc[~(brkln_df['GROSS SQUARE FEET'] == 0)]\n",
    "\n",
    "\n",
    "scatter = plt.scatter(brkln_df['GROSS SQUARE FEET'], brkln_df['SALE PRICE'])\n",
    "plt.title('Brooklyn Real Estate, Gross Square Feet vs. Sales Price')\n",
    "plt.xlabel('GROSS SQUARE FEET (MM sqft)')\n",
    "plt.ylabel('PRICE ($100MM)')"
   ]
  },
  {
   "cell_type": "code",
   "execution_count": 7,
   "metadata": {},
   "outputs": [
    {
     "data": {
      "text/plain": [
       "Text(0, 0.5, 'PRICE ($10MM)')"
      ]
     },
     "execution_count": 7,
     "metadata": {},
     "output_type": "execute_result"
    },
    {
     "data": {
      "image/png": "[encoded data removed]",
      "text/plain": [
       "<Figure size 432x288 with 1 Axes>"
      ]
     },
     "metadata": {
      "needs_background": "light"
     },
     "output_type": "display_data"
    }
   ],
   "source": [
    "family_homes = brkln_df.loc[(brkln_df['BUILDING CLASS CATEGORY'].str.contains(pat = 'Family', case = False))]\n",
    "\n",
    "family_scatter = plt.scatter(family_homes['GROSS SQUARE FEET'], family_homes['SALE PRICE'])\n",
    "\n",
    "plt.title('Brooklyn Family Housing, Gross Square Feet vs. Sales Price')\n",
    "plt.xlabel('GROSS SQUARE FEET')\n",
    "plt.ylabel('PRICE ($10MM)')"
   ]
  },
  {
   "cell_type": "code",
   "execution_count": 8,
   "metadata": {},
   "outputs": [
    {
     "data": {
      "text/html": [
       "<div>\n",
       "<style scoped>\n",
       "    .dataframe tbody tr th:only-of-type {\n",
       "        vertical-align: middle;\n",
       "    }\n",
       "\n",
       "    .dataframe tbody tr th {\n",
       "        vertical-align: top;\n",
       "    }\n",
       "\n",
       "    .dataframe thead th {\n",
       "        text-align: right;\n",
       "    }\n",
       "</style>\n",
       "<table border=\"1\" class=\"dataframe\">\n",
       "  <thead>\n",
       "    <tr style=\"text-align: right;\">\n",
       "      <th></th>\n",
       "      <th>BOROUGH</th>\n",
       "      <th>BLOCK</th>\n",
       "      <th>LOT</th>\n",
       "      <th>ZIP CODE</th>\n",
       "      <th>RESIDENTIAL UNITS</th>\n",
       "      <th>COMMERCIAL UNITS</th>\n",
       "      <th>TOTAL UNITS</th>\n",
       "      <th>LAND SQUARE FEET</th>\n",
       "      <th>GROSS SQUARE FEET</th>\n",
       "      <th>YEAR BUILT</th>\n",
       "      <th>TAX CLASS AT TIME OF SALE</th>\n",
       "      <th>SALE PRICE</th>\n",
       "    </tr>\n",
       "  </thead>\n",
       "  <tbody>\n",
       "    <tr>\n",
       "      <th>count</th>\n",
       "      <td>6610.0</td>\n",
       "      <td>6610.000000</td>\n",
       "      <td>6610.000000</td>\n",
       "      <td>6610.000000</td>\n",
       "      <td>6610.000000</td>\n",
       "      <td>6610.000000</td>\n",
       "      <td>6610.000000</td>\n",
       "      <td>6610.000000</td>\n",
       "      <td>6610.000000</td>\n",
       "      <td>6610.000000</td>\n",
       "      <td>6610.0</td>\n",
       "      <td>6.610000e+03</td>\n",
       "    </tr>\n",
       "    <tr>\n",
       "      <th>mean</th>\n",
       "      <td>3.0</td>\n",
       "      <td>4630.156278</td>\n",
       "      <td>55.731014</td>\n",
       "      <td>11220.738729</td>\n",
       "      <td>1.907716</td>\n",
       "      <td>0.055976</td>\n",
       "      <td>1.963238</td>\n",
       "      <td>2267.141755</td>\n",
       "      <td>2414.050832</td>\n",
       "      <td>1924.589864</td>\n",
       "      <td>1.0</td>\n",
       "      <td>6.352061e+05</td>\n",
       "    </tr>\n",
       "    <tr>\n",
       "      <th>std</th>\n",
       "      <td>0.0</td>\n",
       "      <td>2527.912852</td>\n",
       "      <td>121.496473</td>\n",
       "      <td>11.541932</td>\n",
       "      <td>0.680190</td>\n",
       "      <td>0.232510</td>\n",
       "      <td>0.702121</td>\n",
       "      <td>947.487907</td>\n",
       "      <td>954.121557</td>\n",
       "      <td>54.494248</td>\n",
       "      <td>0.0</td>\n",
       "      <td>6.274984e+05</td>\n",
       "    </tr>\n",
       "    <tr>\n",
       "      <th>min</th>\n",
       "      <td>3.0</td>\n",
       "      <td>34.000000</td>\n",
       "      <td>1.000000</td>\n",
       "      <td>11201.000000</td>\n",
       "      <td>0.000000</td>\n",
       "      <td>0.000000</td>\n",
       "      <td>0.000000</td>\n",
       "      <td>340.000000</td>\n",
       "      <td>300.000000</td>\n",
       "      <td>0.000000</td>\n",
       "      <td>1.0</td>\n",
       "      <td>1.000000e+00</td>\n",
       "    </tr>\n",
       "    <tr>\n",
       "      <th>25%</th>\n",
       "      <td>3.0</td>\n",
       "      <td>1837.000000</td>\n",
       "      <td>20.000000</td>\n",
       "      <td>11210.000000</td>\n",
       "      <td>1.000000</td>\n",
       "      <td>0.000000</td>\n",
       "      <td>1.000000</td>\n",
       "      <td>1800.000000</td>\n",
       "      <td>1732.500000</td>\n",
       "      <td>1905.000000</td>\n",
       "      <td>1.0</td>\n",
       "      <td>3.300000e+05</td>\n",
       "    </tr>\n",
       "    <tr>\n",
       "      <th>50%</th>\n",
       "      <td>3.0</td>\n",
       "      <td>4956.000000</td>\n",
       "      <td>38.000000</td>\n",
       "      <td>11221.000000</td>\n",
       "      <td>2.000000</td>\n",
       "      <td>0.000000</td>\n",
       "      <td>2.000000</td>\n",
       "      <td>2000.000000</td>\n",
       "      <td>2268.000000</td>\n",
       "      <td>1920.000000</td>\n",
       "      <td>1.0</td>\n",
       "      <td>5.277500e+05</td>\n",
       "    </tr>\n",
       "    <tr>\n",
       "      <th>75%</th>\n",
       "      <td>3.0</td>\n",
       "      <td>6725.750000</td>\n",
       "      <td>60.000000</td>\n",
       "      <td>11230.000000</td>\n",
       "      <td>2.000000</td>\n",
       "      <td>0.000000</td>\n",
       "      <td>2.000000</td>\n",
       "      <td>2500.000000</td>\n",
       "      <td>3000.000000</td>\n",
       "      <td>1930.000000</td>\n",
       "      <td>1.0</td>\n",
       "      <td>7.700000e+05</td>\n",
       "    </tr>\n",
       "    <tr>\n",
       "      <th>max</th>\n",
       "      <td>3.0</td>\n",
       "      <td>8955.000000</td>\n",
       "      <td>2756.000000</td>\n",
       "      <td>11416.000000</td>\n",
       "      <td>4.000000</td>\n",
       "      <td>2.000000</td>\n",
       "      <td>5.000000</td>\n",
       "      <td>20000.000000</td>\n",
       "      <td>14260.000000</td>\n",
       "      <td>2012.000000</td>\n",
       "      <td>1.0</td>\n",
       "      <td>2.300000e+07</td>\n",
       "    </tr>\n",
       "  </tbody>\n",
       "</table>\n",
       "</div>"
      ],
      "text/plain": [
       "       BOROUGH        BLOCK          LOT      ZIP CODE  RESIDENTIAL UNITS  \\\n",
       "count   6610.0  6610.000000  6610.000000   6610.000000        6610.000000   \n",
       "mean       3.0  4630.156278    55.731014  11220.738729           1.907716   \n",
       "std        0.0  2527.912852   121.496473     11.541932           0.680190   \n",
       "min        3.0    34.000000     1.000000  11201.000000           0.000000   \n",
       "25%        3.0  1837.000000    20.000000  11210.000000           1.000000   \n",
       "50%        3.0  4956.000000    38.000000  11221.000000           2.000000   \n",
       "75%        3.0  6725.750000    60.000000  11230.000000           2.000000   \n",
       "max        3.0  8955.000000  2756.000000  11416.000000           4.000000   \n",
       "\n",
       "       COMMERCIAL UNITS  TOTAL UNITS  LAND SQUARE FEET  GROSS SQUARE FEET  \\\n",
       "count       6610.000000  6610.000000       6610.000000        6610.000000   \n",
       "mean           0.055976     1.963238       2267.141755        2414.050832   \n",
       "std            0.232510     0.702121        947.487907         954.121557   \n",
       "min            0.000000     0.000000        340.000000         300.000000   \n",
       "25%            0.000000     1.000000       1800.000000        1732.500000   \n",
       "50%            0.000000     2.000000       2000.000000        2268.000000   \n",
       "75%            0.000000     2.000000       2500.000000        3000.000000   \n",
       "max            2.000000     5.000000      20000.000000       14260.000000   \n",
       "\n",
       "        YEAR BUILT  TAX CLASS AT TIME OF SALE    SALE PRICE  \n",
       "count  6610.000000                     6610.0  6.610000e+03  \n",
       "mean   1924.589864                        1.0  6.352061e+05  \n",
       "std      54.494248                        0.0  6.274984e+05  \n",
       "min       0.000000                        1.0  1.000000e+00  \n",
       "25%    1905.000000                        1.0  3.300000e+05  \n",
       "50%    1920.000000                        1.0  5.277500e+05  \n",
       "75%    1930.000000                        1.0  7.700000e+05  \n",
       "max    2012.000000                        1.0  2.300000e+07  "
      ]
     },
     "execution_count": 8,
     "metadata": {},
     "output_type": "execute_result"
    }
   ],
   "source": [
    "family_homes.describe()"
   ]
  }
 ],
 "metadata": {
  "kernelspec": {
   "display_name": "Python 3",
   "language": "python",
   "name": "python3"
  },
  "language_info": {
   "codemirror_mode": {
    "name": "ipython",
    "version": 3
   },
   "file_extension": ".py",
   "mimetype": "text/x-python",
   "name": "python",
   "nbconvert_exporter": "python",
   "pygments_lexer": "ipython3",
   "version": "3.8.5"
  }
 },
 "nbformat": 4,
 "nbformat_minor": 4
}
